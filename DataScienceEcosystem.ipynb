{
  "metadata": {
    "toc-showcode": false,
    "toc-showmarkdowntxt": false,
    "toc-showtags": true,
    "toc-autonumbering": true,
    "language_info": {
      "codemirror_mode": {
        "name": "python",
        "version": 3
      },
      "file_extension": ".py",
      "mimetype": "text/x-python",
      "name": "python",
      "nbconvert_exporter": "python",
      "pygments_lexer": "ipython3",
      "version": "3.8"
    },
    "kernelspec": {
      "name": "python",
      "display_name": "Python (Pyodide)",
      "language": "python"
    }
  },
  "nbformat_minor": 4,
  "nbformat": 4,
  "cells": [
    {
      "cell_type": "markdown",
      "source": "# Data science Tools and Ecosystem\n",
      "metadata": {}
    },
    {
      "cell_type": "markdown",
      "source": "in this notebook , Data science tools and Ecosystem are summarized.",
      "metadata": {}
    },
    {
      "cell_type": "code",
      "source": "some of the popular languages that data scientists use are :\n- c++\n- java \n- SQL\n- python \n- R ",
      "metadata": {
        "trusted": true
      },
      "execution_count": null,
      "outputs": []
    },
    {
      "cell_type": "markdown",
      "source": "some of the commonly used libraries used by data scientists include :\n- numpy\n- keras \n- pandas\n- pytorch \n- scipy \n- scikit-learn\n- tensorflow\n- matplotlib\n",
      "metadata": {}
    },
    {
      "cell_type": "markdown",
      "source": "| Data Science Tools |\n|:--------------------:|\n| python     | \n| R |\n| Jupiter Nnotebooks |\n",
      "metadata": {}
    },
    {
      "cell_type": "markdown",
      "source": "Below are a few examples of evaluating arithmetic expressions in Python :\nFor example, in the expression 2 + 3 4,\nthe multiplication operator () has higher precedence than the addition operator (+),\nso the interpreter will first evaluate the multiplication of 3 and 4, resulting in 12,\nand then add 2 to that result. This results in the final value of 14.\n",
      "metadata": {}
    },
    {
      "cell_type": "code",
      "source": "# This a simple arithmetic expression to multiply then add \n'integers'\nresult = (3*4)+5\nresult",
      "metadata": {
        "trusted": true
      },
      "execution_count": 1,
      "outputs": [
        {
          "execution_count": 1,
          "output_type": "execute_result",
          "data": {
            "text/plain": "17"
          },
          "metadata": {}
        }
      ]
    },
    {
      "cell_type": "code",
      "source": "# this will convert 200 minutes to hours by dividing by 60 \nminutes = 200\nhours = minutes / 60 \nhours",
      "metadata": {
        "trusted": true
      },
      "execution_count": 2,
      "outputs": [
        {
          "execution_count": 2,
          "output_type": "execute_result",
          "data": {
            "text/plain": "3.3333333333333335"
          },
          "metadata": {}
        }
      ]
    },
    {
      "cell_type": "markdown",
      "source": "**objectives:**\n- List popular languages for data science\n- [add more objectives here]\n- [add more objectives here]",
      "metadata": {}
    },
    {
      "cell_type": "markdown",
      "source": "## Author\nMaria",
      "metadata": {}
    },
    {
      "cell_type": "markdown",
      "source": "",
      "metadata": {}
    }
  ]
}